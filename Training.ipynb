{
 "cells": [
  {
   "cell_type": "code",
   "execution_count": 1,
   "id": "83e5bd23",
   "metadata": {
    "execution": {
     "iopub.execute_input": "2024-12-16T05:37:15.833048Z",
     "iopub.status.busy": "2024-12-16T05:37:15.832745Z",
     "iopub.status.idle": "2024-12-16T05:38:15.724563Z",
     "shell.execute_reply": "2024-12-16T05:38:15.723381Z"
    },
    "papermill": {
     "duration": 59.898727,
     "end_time": "2024-12-16T05:38:15.726831",
     "exception": false,
     "start_time": "2024-12-16T05:37:15.828104",
     "status": "completed"
    },
    "tags": []
   },
   "outputs": [],
   "source": [
    "!cp /kaggle/input/bird-project/project/model.py .\n",
    "!cp -r /kaggle/input/identify-the-birds ."
   ]
  },
  {
   "cell_type": "code",
   "execution_count": 2,
   "id": "8bfd0584",
   "metadata": {
    "execution": {
     "iopub.execute_input": "2024-12-16T05:38:15.734386Z",
     "iopub.status.busy": "2024-12-16T05:38:15.734084Z",
     "iopub.status.idle": "2024-12-16T05:38:21.196565Z",
     "shell.execute_reply": "2024-12-16T05:38:21.195892Z"
    },
    "papermill": {
     "duration": 5.468387,
     "end_time": "2024-12-16T05:38:21.198515",
     "exception": false,
     "start_time": "2024-12-16T05:38:15.730128",
     "status": "completed"
    },
    "tags": []
   },
   "outputs": [],
   "source": [
    "import os\n",
    "import matplotlib.pyplot as plt\n",
    "import numpy as np\n",
    "\n",
    "import torch\n",
    "import torch.nn as nn\n",
    "import torch.nn.functional as F\n",
    "import torchvision\n",
    "import torchvision.transforms.v2 as v2\n",
    "\n",
    "from sklearn.metrics import accuracy_score\n",
    "\n",
    "from model import NeuralNet"
   ]
  },
  {
   "cell_type": "code",
   "execution_count": 3,
   "id": "d44677d3",
   "metadata": {
    "execution": {
     "iopub.execute_input": "2024-12-16T05:38:21.205705Z",
     "iopub.status.busy": "2024-12-16T05:38:21.205298Z",
     "iopub.status.idle": "2024-12-16T05:38:21.273046Z",
     "shell.execute_reply": "2024-12-16T05:38:21.272243Z"
    },
    "papermill": {
     "duration": 0.072987,
     "end_time": "2024-12-16T05:38:21.274661",
     "exception": false,
     "start_time": "2024-12-16T05:38:21.201674",
     "status": "completed"
    },
    "tags": []
   },
   "outputs": [
    {
     "data": {
      "text/plain": [
       "<torch._C.Generator at 0x7b29c0624870>"
      ]
     },
     "execution_count": 3,
     "metadata": {},
     "output_type": "execute_result"
    }
   ],
   "source": [
    "device = torch.device(\"cuda\" if torch.cuda.is_available() else \"cpu\")\n",
    "torch.manual_seed(0)"
   ]
  },
  {
   "cell_type": "code",
   "execution_count": 4,
   "id": "9d2f46dd",
   "metadata": {
    "execution": {
     "iopub.execute_input": "2024-12-16T05:38:21.281913Z",
     "iopub.status.busy": "2024-12-16T05:38:21.281475Z",
     "iopub.status.idle": "2024-12-16T05:38:21.286002Z",
     "shell.execute_reply": "2024-12-16T05:38:21.285228Z"
    },
    "papermill": {
     "duration": 0.009923,
     "end_time": "2024-12-16T05:38:21.287658",
     "exception": false,
     "start_time": "2024-12-16T05:38:21.277735",
     "status": "completed"
    },
    "tags": []
   },
   "outputs": [],
   "source": [
    "image_transforms = v2.Compose([\n",
    "    v2.ToImage(), \n",
    "    v2.ToDtype(torch.float32, scale = True),\n",
    "    v2.Resize((300, 300)), \n",
    "    v2.Normalize((0.5, 0.5, 0.5), (0.5, 0.5, 0.5)), \n",
    "    v2.RandomHorizontalFlip(p = 0.5),\n",
    "    v2.RandomVerticalFlip(p = 0.2)\n",
    "])"
   ]
  },
  {
   "cell_type": "code",
   "execution_count": 5,
   "id": "27d74e86",
   "metadata": {
    "execution": {
     "iopub.execute_input": "2024-12-16T05:38:21.295576Z",
     "iopub.status.busy": "2024-12-16T05:38:21.295330Z",
     "iopub.status.idle": "2024-12-16T05:38:21.298847Z",
     "shell.execute_reply": "2024-12-16T05:38:21.298100Z"
    },
    "papermill": {
     "duration": 0.008607,
     "end_time": "2024-12-16T05:38:21.300305",
     "exception": false,
     "start_time": "2024-12-16T05:38:21.291698",
     "status": "completed"
    },
    "tags": []
   },
   "outputs": [],
   "source": [
    "DATA_PATH = '/kaggle/working/identify-the-birds/Birds/train/'"
   ]
  },
  {
   "cell_type": "code",
   "execution_count": 6,
   "id": "f3044190",
   "metadata": {
    "execution": {
     "iopub.execute_input": "2024-12-16T05:38:21.306918Z",
     "iopub.status.busy": "2024-12-16T05:38:21.306683Z",
     "iopub.status.idle": "2024-12-16T05:38:21.357415Z",
     "shell.execute_reply": "2024-12-16T05:38:21.356639Z"
    },
    "papermill": {
     "duration": 0.055835,
     "end_time": "2024-12-16T05:38:21.358985",
     "exception": false,
     "start_time": "2024-12-16T05:38:21.303150",
     "status": "completed"
    },
    "tags": []
   },
   "outputs": [],
   "source": [
    "data = torchvision.datasets.ImageFolder(DATA_PATH, transform = image_transforms)\n",
    "train_data, validation_data = torch.utils.data.random_split(data, [0.8, 0.2])\n",
    "train_loader = torch.utils.data.DataLoader(train_data, batch_size = 256, shuffle = True, num_workers = 0)\n",
    "validation_loader = torch.utils.data.DataLoader(validation_data, batch_size = 256, shuffle = True, num_workers = 0)"
   ]
  },
  {
   "cell_type": "code",
   "execution_count": 7,
   "id": "d72a5701",
   "metadata": {
    "execution": {
     "iopub.execute_input": "2024-12-16T05:38:21.365766Z",
     "iopub.status.busy": "2024-12-16T05:38:21.365493Z",
     "iopub.status.idle": "2024-12-16T05:38:21.369548Z",
     "shell.execute_reply": "2024-12-16T05:38:21.368733Z"
    },
    "papermill": {
     "duration": 0.009131,
     "end_time": "2024-12-16T05:38:21.371056",
     "exception": false,
     "start_time": "2024-12-16T05:38:21.361925",
     "status": "completed"
    },
    "tags": []
   },
   "outputs": [
    {
     "name": "stdout",
     "output_type": "stream",
     "text": [
      "cuda\n"
     ]
    }
   ],
   "source": [
    "print(device)"
   ]
  },
  {
   "cell_type": "code",
   "execution_count": 8,
   "id": "38e86ce6",
   "metadata": {
    "execution": {
     "iopub.execute_input": "2024-12-16T05:38:21.377686Z",
     "iopub.status.busy": "2024-12-16T05:38:21.377452Z",
     "iopub.status.idle": "2024-12-16T05:38:21.381189Z",
     "shell.execute_reply": "2024-12-16T05:38:21.380521Z"
    },
    "papermill": {
     "duration": 0.008893,
     "end_time": "2024-12-16T05:38:21.382846",
     "exception": false,
     "start_time": "2024-12-16T05:38:21.373953",
     "status": "completed"
    },
    "tags": []
   },
   "outputs": [],
   "source": [
    "def get_accuracy(y_act, y_pred):\n",
    "    \n",
    "    predictions = np.argmax(y_pred, axis = 1)\n",
    "    ground_truth = y_act\n",
    "    \n",
    "    accuracy = accuracy_score(ground_truth, predictions)\n",
    "    \n",
    "    return accuracy"
   ]
  },
  {
   "cell_type": "code",
   "execution_count": 9,
   "id": "5d2ff1bd",
   "metadata": {
    "execution": {
     "iopub.execute_input": "2024-12-16T05:38:21.389663Z",
     "iopub.status.busy": "2024-12-16T05:38:21.389380Z",
     "iopub.status.idle": "2024-12-16T05:38:21.816388Z",
     "shell.execute_reply": "2024-12-16T05:38:21.815715Z"
    },
    "papermill": {
     "duration": 0.432523,
     "end_time": "2024-12-16T05:38:21.818384",
     "exception": false,
     "start_time": "2024-12-16T05:38:21.385861",
     "status": "completed"
    },
    "tags": []
   },
   "outputs": [],
   "source": [
    "net = NeuralNet().to(device)\n",
    "net.initialize_weights()\n",
    "optimizer = torch.optim.Adam(net.parameters(), lr = 0.001)\n",
    "criterion = nn.CrossEntropyLoss()"
   ]
  },
  {
   "cell_type": "code",
   "execution_count": 10,
   "id": "396fae2f",
   "metadata": {
    "execution": {
     "iopub.execute_input": "2024-12-16T05:38:21.825972Z",
     "iopub.status.busy": "2024-12-16T05:38:21.825705Z",
     "iopub.status.idle": "2024-12-16T05:38:21.830492Z",
     "shell.execute_reply": "2024-12-16T05:38:21.829678Z"
    },
    "papermill": {
     "duration": 0.010471,
     "end_time": "2024-12-16T05:38:21.832173",
     "exception": false,
     "start_time": "2024-12-16T05:38:21.821702",
     "status": "completed"
    },
    "tags": []
   },
   "outputs": [
    {
     "name": "stdout",
     "output_type": "stream",
     "text": [
      "[432, 16, 6400, 16, 4608, 32, 9216, 32, 51200, 64, 36864, 64, 73728, 128, 147456, 128, 409600, 128, 294912, 256, 589824, 256, 589824, 256, 21233664, 1024, 131072, 128, 1280, 10, 32, 32, 128, 128, 128, 128]\n",
      "23583194\n"
     ]
    }
   ],
   "source": [
    "print([p.numel() for p in net.parameters()])\n",
    "print(sum([p.numel() for p in net.parameters()]))"
   ]
  },
  {
   "cell_type": "code",
   "execution_count": 11,
   "id": "7758234a",
   "metadata": {
    "execution": {
     "iopub.execute_input": "2024-12-16T05:38:21.839073Z",
     "iopub.status.busy": "2024-12-16T05:38:21.838831Z",
     "iopub.status.idle": "2024-12-16T05:38:21.842246Z",
     "shell.execute_reply": "2024-12-16T05:38:21.841535Z"
    },
    "papermill": {
     "duration": 0.008614,
     "end_time": "2024-12-16T05:38:21.843858",
     "exception": false,
     "start_time": "2024-12-16T05:38:21.835244",
     "status": "completed"
    },
    "tags": []
   },
   "outputs": [],
   "source": [
    "train_loss_values = []\n",
    "val_loss_values = []\n",
    "train_accuracy_values = []\n",
    "val_accuracy_values = []"
   ]
  },
  {
   "cell_type": "code",
   "execution_count": 12,
   "id": "276486f1",
   "metadata": {
    "execution": {
     "iopub.execute_input": "2024-12-16T05:38:21.850901Z",
     "iopub.status.busy": "2024-12-16T05:38:21.850644Z",
     "iopub.status.idle": "2024-12-16T05:38:21.856984Z",
     "shell.execute_reply": "2024-12-16T05:38:21.856241Z"
    },
    "papermill": {
     "duration": 0.011829,
     "end_time": "2024-12-16T05:38:21.858670",
     "exception": false,
     "start_time": "2024-12-16T05:38:21.846841",
     "status": "completed"
    },
    "tags": []
   },
   "outputs": [],
   "source": [
    "def train_model(model, dataloader, loss_criterion, optimizer):\n",
    "\n",
    "    for X, y in dataloader:\n",
    "        X, y = X.to(device), y.to(device)\n",
    "        optimizer.zero_grad()\n",
    "        y_pred = model.forward(X)\n",
    "        loss = loss_criterion(y_pred, y)\n",
    "        loss.backward()\n",
    "        optimizer.step()\n",
    "\n",
    "\n",
    "def evaluate_model(model, dataloader, loss_criterion):\n",
    "\n",
    "    y_pred = []\n",
    "    y_act = []\n",
    "    total_loss = 0\n",
    "    \n",
    "    with torch.no_grad():\n",
    "        for X, y in dataloader:\n",
    "            X, y = X.to(device), y.to(device)\n",
    "            y_out = model.forward(X)\n",
    "            loss = loss_criterion(y_out, y)\n",
    "            total_loss += loss.item()\n",
    "            y_pred.append(y_out.detach().cpu().numpy())\n",
    "            y_act.append(y.detach().cpu().numpy())\n",
    "            \n",
    "    y_pred = np.concatenate(y_pred, axis = 0)\n",
    "    y_act = np.concatenate(y_act, axis = 0)\n",
    "    total_loss = total_loss / len(dataloader)\n",
    "    accuracy = get_accuracy(y_act, y_pred)\n",
    "    \n",
    "    return total_loss, accuracy"
   ]
  },
  {
   "cell_type": "code",
   "execution_count": 13,
   "id": "68ff5e0a",
   "metadata": {
    "execution": {
     "iopub.execute_input": "2024-12-16T05:38:21.865486Z",
     "iopub.status.busy": "2024-12-16T05:38:21.865249Z",
     "iopub.status.idle": "2024-12-16T07:08:41.243655Z",
     "shell.execute_reply": "2024-12-16T07:08:41.242656Z"
    },
    "papermill": {
     "duration": 5419.387541,
     "end_time": "2024-12-16T07:08:41.249228",
     "exception": false,
     "start_time": "2024-12-16T05:38:21.861687",
     "status": "completed"
    },
    "tags": []
   },
   "outputs": [
    {
     "name": "stdout",
     "output_type": "stream",
     "text": [
      "Epoch: 1\n",
      "Train Loss: 2.4625272899866104 || Train Accuracy: 0.15110441767068272\n",
      "Validation Loss: 2.440527468919754 || Validation Accuracy: 0.16265060240963855\n",
      "Epoch: 2\n",
      "Train Loss: 1.7476776912808418 || Train Accuracy: 0.4157881526104418\n",
      "Validation Loss: 1.7392109781503677 || Validation Accuracy: 0.39558232931726905\n",
      "Epoch: 3\n",
      "Train Loss: 1.4404345154762268 || Train Accuracy: 0.4864457831325301\n",
      "Validation Loss: 1.4414231032133102 || Validation Accuracy: 0.49497991967871485\n",
      "Epoch: 4\n",
      "Train Loss: 1.2062531113624573 || Train Accuracy: 0.5520833333333334\n",
      "Validation Loss: 1.2500647604465485 || Validation Accuracy: 0.5441767068273092\n",
      "Epoch: 5\n",
      "Train Loss: 0.9382283557206392 || Train Accuracy: 0.6731927710843374\n",
      "Validation Loss: 0.983376257121563 || Validation Accuracy: 0.6666666666666666\n",
      "Epoch: 6\n",
      "Train Loss: 0.9283505324274302 || Train Accuracy: 0.6720632530120482\n",
      "Validation Loss: 0.9643825441598892 || Validation Accuracy: 0.6596385542168675\n",
      "Epoch: 7\n",
      "Train Loss: 1.1828795950859785 || Train Accuracy: 0.6246234939759037\n",
      "Validation Loss: 1.246889054775238 || Validation Accuracy: 0.6119477911646586\n",
      "Epoch: 8\n",
      "Train Loss: 0.6319952886551619 || Train Accuracy: 0.7815010040160643\n",
      "Validation Loss: 0.7003137022256851 || Validation Accuracy: 0.7540160642570282\n",
      "Epoch: 9\n",
      "Train Loss: 0.7114801909774542 || Train Accuracy: 0.7526355421686747\n",
      "Validation Loss: 0.7389866784214973 || Validation Accuracy: 0.7274096385542169\n",
      "Epoch: 10\n",
      "Train Loss: 0.6797953397035599 || Train Accuracy: 0.7631777108433735\n",
      "Validation Loss: 0.7559091374278069 || Validation Accuracy: 0.7515060240963856\n",
      "Epoch: 11\n",
      "Train Loss: 0.5096561955288053 || Train Accuracy: 0.8217871485943775\n",
      "Validation Loss: 0.5953582897782326 || Validation Accuracy: 0.7961847389558233\n",
      "Epoch: 12\n",
      "Train Loss: 0.9525164645165205 || Train Accuracy: 0.6839859437751004\n",
      "Validation Loss: 1.0671869665384293 || Validation Accuracy: 0.6676706827309237\n",
      "Epoch: 13\n",
      "Train Loss: 0.4134770892560482 || Train Accuracy: 0.8580572289156626\n",
      "Validation Loss: 0.5512152500450611 || Validation Accuracy: 0.8162650602409639\n",
      "Epoch: 14\n",
      "Train Loss: 0.3382879230193794 || Train Accuracy: 0.8867971887550201\n",
      "Validation Loss: 0.4811117760837078 || Validation Accuracy: 0.8413654618473896\n",
      "Epoch: 15\n",
      "Train Loss: 0.3827398559078574 || Train Accuracy: 0.8708584337349398\n",
      "Validation Loss: 0.5184974074363708 || Validation Accuracy: 0.8283132530120482\n",
      "Epoch: 16\n",
      "Train Loss: 0.34578582225367427 || Train Accuracy: 0.8776355421686747\n",
      "Validation Loss: 0.5015655532479286 || Validation Accuracy: 0.8348393574297188\n",
      "Epoch: 17\n",
      "Train Loss: 2.441856786608696 || Train Accuracy: 0.5710341365461847\n",
      "Validation Loss: 2.639438807964325 || Validation Accuracy: 0.5376506024096386\n",
      "Epoch: 18\n",
      "Train Loss: 0.2731964513659477 || Train Accuracy: 0.9110190763052208\n",
      "Validation Loss: 0.43123016878962517 || Validation Accuracy: 0.8629518072289156\n",
      "Epoch: 19\n",
      "Train Loss: 0.2593204244039953 || Train Accuracy: 0.9132781124497992\n",
      "Validation Loss: 0.41649051755666733 || Validation Accuracy: 0.858433734939759\n",
      "Epoch: 20\n",
      "Train Loss: 0.22849229630082846 || Train Accuracy: 0.9243222891566265\n",
      "Validation Loss: 0.4358927719295025 || Validation Accuracy: 0.8549196787148594\n"
     ]
    }
   ],
   "source": [
    "nepochs = 20\n",
    "\n",
    "for epoch in range(1, nepochs+1):\n",
    "    \n",
    "    net.train()\n",
    "    train_model(net, train_loader, criterion, optimizer)\n",
    "    \n",
    "    net.eval()\n",
    "    train_loss, train_accuracy = evaluate_model(net, train_loader, criterion)\n",
    "    val_loss, val_accuracy = evaluate_model(net, validation_loader, criterion)\n",
    "    \n",
    "    train_loss_values.append(train_loss)\n",
    "    val_loss_values.append(val_loss)\n",
    "    \n",
    "    train_accuracy_values.append(train_accuracy)\n",
    "    val_accuracy_values.append(val_accuracy)\n",
    "    \n",
    "    print('Epoch:', epoch)\n",
    "    print('Train Loss:', train_loss, '||', 'Train Accuracy:', train_accuracy)\n",
    "    print('Validation Loss:', val_loss, '||', 'Validation Accuracy:', val_accuracy)"
   ]
  },
  {
   "cell_type": "code",
   "execution_count": 14,
   "id": "51aa3158",
   "metadata": {
    "execution": {
     "iopub.execute_input": "2024-12-16T07:08:41.258236Z",
     "iopub.status.busy": "2024-12-16T07:08:41.257972Z",
     "iopub.status.idle": "2024-12-16T07:08:41.492174Z",
     "shell.execute_reply": "2024-12-16T07:08:41.491358Z"
    },
    "papermill": {
     "duration": 0.240751,
     "end_time": "2024-12-16T07:08:41.493881",
     "exception": false,
     "start_time": "2024-12-16T07:08:41.253130",
     "status": "completed"
    },
    "tags": []
   },
   "outputs": [
    {
     "data": {
      "image/png": "[encoded data removed]",
      "text/plain": [
       "<Figure size 640x480 with 1 Axes>"
      ]
     },
     "metadata": {},
     "output_type": "display_data"
    }
   ],
   "source": [
    "plt.plot(train_loss_values, label = 'Train Loss')\n",
    "plt.plot(val_loss_values, label = 'Validation Loss')\n",
    "plt.legend()\n",
    "plt.show()"
   ]
  },
  {
   "cell_type": "code",
   "execution_count": 15,
   "id": "1da4b2ab",
   "metadata": {
    "execution": {
     "iopub.execute_input": "2024-12-16T07:08:41.503695Z",
     "iopub.status.busy": "2024-12-16T07:08:41.503409Z",
     "iopub.status.idle": "2024-12-16T07:08:41.724440Z",
     "shell.execute_reply": "2024-12-16T07:08:41.723649Z"
    },
    "papermill": {
     "duration": 0.227596,
     "end_time": "2024-12-16T07:08:41.725949",
     "exception": false,
     "start_time": "2024-12-16T07:08:41.498353",
     "status": "completed"
    },
    "tags": []
   },
   "outputs": [
    {
     "data": {
      "image/png": "[encoded data removed]",
      "text/plain": [
       "<Figure size 640x480 with 1 Axes>"
      ]
     },
     "metadata": {},
     "output_type": "display_data"
    }
   ],
   "source": [
    "plt.plot(train_accuracy_values, label = 'Train Accuracy')\n",
    "plt.plot(val_accuracy_values, label = 'Validation Accuracy')\n",
    "plt.legend()\n",
    "plt.show()"
   ]
  },
  {
   "cell_type": "code",
   "execution_count": 16,
   "id": "96438888",
   "metadata": {
    "execution": {
     "iopub.execute_input": "2024-12-16T07:08:41.736798Z",
     "iopub.status.busy": "2024-12-16T07:08:41.736516Z",
     "iopub.status.idle": "2024-12-16T07:08:41.928313Z",
     "shell.execute_reply": "2024-12-16T07:08:41.927589Z"
    },
    "papermill": {
     "duration": 0.199304,
     "end_time": "2024-12-16T07:08:41.930296",
     "exception": false,
     "start_time": "2024-12-16T07:08:41.730992",
     "status": "completed"
    },
    "tags": []
   },
   "outputs": [],
   "source": [
    "torch.save(net.state_dict(), './model_weights.pth')"
   ]
  }
 ],
 "metadata": {
  "kaggle": {
   "accelerator": "gpu",
   "dataSources": [
    {
     "datasetId": 5837237,
     "sourceId": 9575326,
     "sourceType": "datasetVersion"
    },
    {
     "datasetId": 6303350,
     "sourceId": 10200555,
     "sourceType": "datasetVersion"
    }
   ],
   "dockerImageVersionId": 30805,
   "isGpuEnabled": true,
   "isInternetEnabled": true,
   "language": "python",
   "sourceType": "notebook"
  },
  "kernelspec": {
   "display_name": "Python 3",
   "language": "python",
   "name": "python3"
  },
  "language_info": {
   "codemirror_mode": {
    "name": "ipython",
    "version": 3
   },
   "file_extension": ".py",
   "mimetype": "text/x-python",
   "name": "python",
   "nbconvert_exporter": "python",
   "pygments_lexer": "ipython3",
   "version": "3.10.14"
  },
  "papermill": {
   "default_parameters": {},
   "duration": 5489.890687,
   "end_time": "2024-12-16T07:08:43.256044",
   "environment_variables": {},
   "exception": null,
   "input_path": "__notebook__.ipynb",
   "output_path": "__notebook__.ipynb",
   "parameters": {},
   "start_time": "2024-12-16T05:37:13.365357",
   "version": "2.6.0"
  }
 },
 "nbformat": 4,
 "nbformat_minor": 5
}
