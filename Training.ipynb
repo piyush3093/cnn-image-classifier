{
 "cells": [
  {
   "cell_type": "markdown",
   "id": "01e345d0-669b-4071-a506-909a664bf05a",
   "metadata": {},
   "source": [
    "In this notebook I train a CNN using PyTorch on a dataset of bird images with 10 classes"
   ]
  },
  {
   "cell_type": "code",
   "execution_count": 2,
   "id": "e112d620",
   "metadata": {
    "execution": {
     "iopub.execute_input": "2024-12-15T06:18:12.147940Z",
     "iopub.status.busy": "2024-12-15T06:18:12.147618Z",
     "iopub.status.idle": "2024-12-15T06:18:17.517977Z",
     "shell.execute_reply": "2024-12-15T06:18:17.517012Z"
    },
    "papermill": {
     "duration": 5.376956,
     "end_time": "2024-12-15T06:18:17.520472",
     "exception": false,
     "start_time": "2024-12-15T06:18:12.143516",
     "status": "completed"
    },
    "tags": []
   },
   "outputs": [],
   "source": [
    "import os\n",
    "import matplotlib.pyplot as plt\n",
    "import numpy as np\n",
    "\n",
    "import torch\n",
    "import torch.nn as nn\n",
    "import torch.nn.functional as F\n",
    "import torchvision\n",
    "import torchvision.transforms.v2 as v2\n",
    "\n",
    "from sklearn.metrics import accuracy_score\n",
    "\n",
    "from model import NeuralNet"
   ]
  },
  {
   "cell_type": "code",
   "execution_count": 3,
   "id": "2c69e8f7",
   "metadata": {
    "execution": {
     "iopub.execute_input": "2024-12-15T06:18:17.528696Z",
     "iopub.status.busy": "2024-12-15T06:18:17.528209Z",
     "iopub.status.idle": "2024-12-15T06:18:17.595790Z",
     "shell.execute_reply": "2024-12-15T06:18:17.594906Z"
    },
    "papermill": {
     "duration": 0.074903,
     "end_time": "2024-12-15T06:18:17.598559",
     "exception": false,
     "start_time": "2024-12-15T06:18:17.523656",
     "status": "completed"
    },
    "tags": []
   },
   "outputs": [
    {
     "data": {
      "text/plain": [
       "<torch._C.Generator at 0x789e881fc890>"
      ]
     },
     "execution_count": 3,
     "metadata": {},
     "output_type": "execute_result"
    }
   ],
   "source": [
    "device = torch.device(\"cuda\" if torch.cuda.is_available() else \"cpu\")\n",
    "torch.manual_seed(0)"
   ]
  },
  {
   "cell_type": "code",
   "execution_count": 4,
   "id": "a05ebae7",
   "metadata": {
    "execution": {
     "iopub.execute_input": "2024-12-15T06:18:17.606567Z",
     "iopub.status.busy": "2024-12-15T06:18:17.606048Z",
     "iopub.status.idle": "2024-12-15T06:18:17.611270Z",
     "shell.execute_reply": "2024-12-15T06:18:17.610536Z"
    },
    "papermill": {
     "duration": 0.010753,
     "end_time": "2024-12-15T06:18:17.612966",
     "exception": false,
     "start_time": "2024-12-15T06:18:17.602213",
     "status": "completed"
    },
    "tags": []
   },
   "outputs": [],
   "source": [
    "### Image Augmentation to generalize the model better\n",
    "\n",
    "image_transforms = v2.Compose([\n",
    "    v2.ToImage(), \n",
    "    v2.ToDtype(torch.float32, scale = True),\n",
    "    v2.Resize((300, 300)), \n",
    "    v2.Normalize((0.5, 0.5, 0.5), (0.5, 0.5, 0.5)), \n",
    "    v2.RandomHorizontalFlip(p = 0.5),\n",
    "    v2.RandomVerticalFlip(p = 0.2)\n",
    "])\n",
    "one_hot_encode = v2.Lambda(lambda y: torch.zeros(10, dtype=torch.float).scatter_(0, torch.tensor(y), value=1))"
   ]
  },
  {
   "cell_type": "code",
   "execution_count": 5,
   "id": "63566452",
   "metadata": {
    "execution": {
     "iopub.execute_input": "2024-12-15T06:18:17.620844Z",
     "iopub.status.busy": "2024-12-15T06:18:17.620589Z",
     "iopub.status.idle": "2024-12-15T06:18:17.624027Z",
     "shell.execute_reply": "2024-12-15T06:18:17.623338Z"
    },
    "papermill": {
     "duration": 0.009879,
     "end_time": "2024-12-15T06:18:17.625689",
     "exception": false,
     "start_time": "2024-12-15T06:18:17.615810",
     "status": "completed"
    },
    "tags": []
   },
   "outputs": [],
   "source": [
    "DATA_PATH = './Birds/train/'"
   ]
  },
  {
   "cell_type": "code",
   "execution_count": 6,
   "id": "9ab57742",
   "metadata": {
    "execution": {
     "iopub.execute_input": "2024-12-15T06:18:17.632306Z",
     "iopub.status.busy": "2024-12-15T06:18:17.632052Z",
     "iopub.status.idle": "2024-12-15T06:18:17.683146Z",
     "shell.execute_reply": "2024-12-15T06:18:17.682505Z"
    },
    "papermill": {
     "duration": 0.056455,
     "end_time": "2024-12-15T06:18:17.684991",
     "exception": false,
     "start_time": "2024-12-15T06:18:17.628536",
     "status": "completed"
    },
    "tags": []
   },
   "outputs": [],
   "source": [
    "data = torchvision.datasets.ImageFolder(DATA_PATH, transform = image_transforms, target_transform = one_hot_encode)\n",
    "train_data, validation_data = torch.utils.data.random_split(data, [0.8, 0.2])\n",
    "train_loader = torch.utils.data.DataLoader(train_data, batch_size = 256, shuffle = True, num_workers = 0)\n",
    "validation_loader = torch.utils.data.DataLoader(validation_data, batch_size = 256, shuffle = True, num_workers = 0)"
   ]
  },
  {
   "cell_type": "code",
   "execution_count": 7,
   "id": "9ae319ef",
   "metadata": {
    "execution": {
     "iopub.execute_input": "2024-12-15T06:18:17.692776Z",
     "iopub.status.busy": "2024-12-15T06:18:17.691895Z",
     "iopub.status.idle": "2024-12-15T06:18:17.696729Z",
     "shell.execute_reply": "2024-12-15T06:18:17.695782Z"
    },
    "papermill": {
     "duration": 0.010336,
     "end_time": "2024-12-15T06:18:17.698461",
     "exception": false,
     "start_time": "2024-12-15T06:18:17.688125",
     "status": "completed"
    },
    "tags": []
   },
   "outputs": [
    {
     "name": "stdout",
     "output_type": "stream",
     "text": [
      "cuda\n"
     ]
    }
   ],
   "source": [
    "print(device)"
   ]
  },
  {
   "cell_type": "code",
   "execution_count": 8,
   "id": "23367ab3",
   "metadata": {
    "execution": {
     "iopub.execute_input": "2024-12-15T06:18:17.705591Z",
     "iopub.status.busy": "2024-12-15T06:18:17.704952Z",
     "iopub.status.idle": "2024-12-15T06:18:17.709140Z",
     "shell.execute_reply": "2024-12-15T06:18:17.708509Z"
    },
    "papermill": {
     "duration": 0.009428,
     "end_time": "2024-12-15T06:18:17.710774",
     "exception": false,
     "start_time": "2024-12-15T06:18:17.701346",
     "status": "completed"
    },
    "tags": []
   },
   "outputs": [],
   "source": [
    "def get_accuracy(y_act, y_pred):\n",
    "    \n",
    "    predictions = np.argmax(y_pred, axis = 1)\n",
    "    ground_truth = np.argmax(y_act, axis = 1)\n",
    "    \n",
    "    accuracy = accuracy_score(ground_truth, predictions)\n",
    "    \n",
    "    return accuracy"
   ]
  },
  {
   "cell_type": "code",
   "execution_count": 9,
   "id": "494e1ae8",
   "metadata": {
    "execution": {
     "iopub.execute_input": "2024-12-15T06:18:17.718088Z",
     "iopub.status.busy": "2024-12-15T06:18:17.717414Z",
     "iopub.status.idle": "2024-12-15T06:18:18.152012Z",
     "shell.execute_reply": "2024-12-15T06:18:18.151287Z"
    },
    "papermill": {
     "duration": 0.440459,
     "end_time": "2024-12-15T06:18:18.154138",
     "exception": false,
     "start_time": "2024-12-15T06:18:17.713679",
     "status": "completed"
    },
    "tags": []
   },
   "outputs": [],
   "source": [
    "net = NeuralNet().to(device)\n",
    "net.initialize_weights()\n",
    "optimizer = torch.optim.Adam(net.parameters(), lr = 0.001)\n",
    "criterion = nn.CrossEntropyLoss()"
   ]
  },
  {
   "cell_type": "code",
   "execution_count": 10,
   "id": "571bf3e5",
   "metadata": {
    "execution": {
     "iopub.execute_input": "2024-12-15T06:18:18.161953Z",
     "iopub.status.busy": "2024-12-15T06:18:18.161216Z",
     "iopub.status.idle": "2024-12-15T06:18:18.166186Z",
     "shell.execute_reply": "2024-12-15T06:18:18.165409Z"
    },
    "papermill": {
     "duration": 0.010747,
     "end_time": "2024-12-15T06:18:18.168146",
     "exception": false,
     "start_time": "2024-12-15T06:18:18.157399",
     "status": "completed"
    },
    "tags": []
   },
   "outputs": [
    {
     "name": "stdout",
     "output_type": "stream",
     "text": [
      "[432, 16, 6400, 16, 4608, 32, 9216, 32, 51200, 64, 36864, 64, 73728, 128, 147456, 128, 409600, 128, 294912, 256, 589824, 256, 589824, 256, 21233664, 1024, 131072, 128, 1280, 10, 32, 32, 128, 128, 128, 128]\n",
      "23583194\n"
     ]
    }
   ],
   "source": [
    "print([p.numel() for p in net.parameters()])\n",
    "print(sum([p.numel() for p in net.parameters()]))"
   ]
  },
  {
   "cell_type": "code",
   "execution_count": 11,
   "id": "8a1ca2af",
   "metadata": {
    "execution": {
     "iopub.execute_input": "2024-12-15T06:18:18.176031Z",
     "iopub.status.busy": "2024-12-15T06:18:18.175276Z",
     "iopub.status.idle": "2024-12-15T06:18:18.179199Z",
     "shell.execute_reply": "2024-12-15T06:18:18.178497Z"
    },
    "papermill": {
     "duration": 0.009536,
     "end_time": "2024-12-15T06:18:18.180803",
     "exception": false,
     "start_time": "2024-12-15T06:18:18.171267",
     "status": "completed"
    },
    "tags": []
   },
   "outputs": [],
   "source": [
    "train_loss_values = []\n",
    "val_loss_values = []\n",
    "train_accuracy_values = []\n",
    "val_accuracy_values = []"
   ]
  },
  {
   "cell_type": "code",
   "execution_count": 12,
   "id": "6f7bc629",
   "metadata": {
    "execution": {
     "iopub.execute_input": "2024-12-15T06:18:18.188014Z",
     "iopub.status.busy": "2024-12-15T06:18:18.187500Z",
     "iopub.status.idle": "2024-12-15T06:18:18.194102Z",
     "shell.execute_reply": "2024-12-15T06:18:18.193354Z"
    },
    "papermill": {
     "duration": 0.011961,
     "end_time": "2024-12-15T06:18:18.195781",
     "exception": false,
     "start_time": "2024-12-15T06:18:18.183820",
     "status": "completed"
    },
    "tags": []
   },
   "outputs": [],
   "source": [
    "def train_model(model, dataloader, loss_criterion, optimizer):\n",
    "\n",
    "    for X, y in dataloader:\n",
    "        X, y = X.to(device), y.to(device)\n",
    "        optimizer.zero_grad()\n",
    "        y_pred = model.forward(X)\n",
    "        loss = loss_criterion(y_pred, y)\n",
    "        loss.backward()\n",
    "        optimizer.step()\n",
    "\n",
    "\n",
    "def evaluate_model(model, dataloader, loss_criterion):\n",
    "\n",
    "    y_pred = []\n",
    "    y_act = []\n",
    "    total_loss = 0\n",
    "    \n",
    "    with torch.no_grad():\n",
    "        for X, y in dataloader:\n",
    "            X, y = X.to(device), y.to(device)\n",
    "            y_out = model.forward(X)\n",
    "            loss = loss_criterion(y_out, y)\n",
    "            total_loss += loss.item()\n",
    "            y_pred.append(y_out.detach().cpu().numpy())\n",
    "            y_act.append(y.detach().cpu().numpy())\n",
    "            \n",
    "    y_pred = np.concatenate(y_pred, axis = 0)\n",
    "    y_act = np.concatenate(y_act, axis = 0)\n",
    "    total_loss = total_loss / len(dataloader)\n",
    "    accuracy = get_accuracy(y_act, y_pred)\n",
    "    \n",
    "    return total_loss, accuracy"
   ]
  },
  {
   "cell_type": "code",
   "execution_count": 13,
   "id": "76e67ed2",
   "metadata": {
    "execution": {
     "iopub.execute_input": "2024-12-15T06:18:18.202888Z",
     "iopub.status.busy": "2024-12-15T06:18:18.202437Z",
     "iopub.status.idle": "2024-12-15T07:51:26.071375Z",
     "shell.execute_reply": "2024-12-15T07:51:26.070491Z"
    },
    "papermill": {
     "duration": 5587.877734,
     "end_time": "2024-12-15T07:51:26.076485",
     "exception": false,
     "start_time": "2024-12-15T06:18:18.198751",
     "status": "completed"
    },
    "tags": []
   },
   "outputs": [
    {
     "name": "stdout",
     "output_type": "stream",
     "text": [
      "Epoch: 1\n",
      "Train Loss: 2.8306913897395134 || Train Accuracy: 0.1276355421686747\n",
      "Validation Loss: 2.787519097328186 || Validation Accuracy: 0.1390562248995984\n",
      "Epoch: 2\n",
      "Train Loss: 1.7340597361326218 || Train Accuracy: 0.3689759036144578\n",
      "Validation Loss: 1.675060212612152 || Validation Accuracy: 0.38002008032128515\n",
      "Epoch: 3\n",
      "Train Loss: 2.058744389563799 || Train Accuracy: 0.2852660642570281\n",
      "Validation Loss: 2.055487483739853 || Validation Accuracy: 0.28413654618473894\n",
      "Epoch: 4\n",
      "Train Loss: 1.1994082741439342 || Train Accuracy: 0.5571034136546185\n",
      "Validation Loss: 1.2600664347410202 || Validation Accuracy: 0.5386546184738956\n",
      "Epoch: 5\n",
      "Train Loss: 0.7677430473268032 || Train Accuracy: 0.7395833333333334\n",
      "Validation Loss: 0.7920876070857048 || Validation Accuracy: 0.7304216867469879\n",
      "Epoch: 6\n",
      "Train Loss: 1.0046073198318481 || Train Accuracy: 0.6248744979919679\n",
      "Validation Loss: 1.0525587499141693 || Validation Accuracy: 0.6139558232931727\n",
      "Epoch: 7\n",
      "Train Loss: 0.8102573025971651 || Train Accuracy: 0.7139809236947792\n",
      "Validation Loss: 0.8469680026173592 || Validation Accuracy: 0.7008032128514057\n",
      "Epoch: 8\n",
      "Train Loss: 0.7890854589641094 || Train Accuracy: 0.7220130522088354\n",
      "Validation Loss: 0.8517055734992027 || Validation Accuracy: 0.7018072289156626\n",
      "Epoch: 9\n",
      "Train Loss: 0.8012812603265047 || Train Accuracy: 0.7245230923694779\n",
      "Validation Loss: 0.8326670005917549 || Validation Accuracy: 0.7168674698795181\n",
      "Epoch: 10\n",
      "Train Loss: 0.5761991683393717 || Train Accuracy: 0.8030873493975904\n",
      "Validation Loss: 0.6904323324561119 || Validation Accuracy: 0.7725903614457831\n",
      "Epoch: 11\n",
      "Train Loss: 0.48045308608561754 || Train Accuracy: 0.8384789156626506\n",
      "Validation Loss: 0.5886622332036495 || Validation Accuracy: 0.8117469879518072\n",
      "Epoch: 12\n",
      "Train Loss: 0.577200292609632 || Train Accuracy: 0.7951807228915663\n",
      "Validation Loss: 0.7064054384827614 || Validation Accuracy: 0.7570281124497992\n",
      "Epoch: 13\n",
      "Train Loss: 0.4472883753478527 || Train Accuracy: 0.8506526104417671\n",
      "Validation Loss: 0.563118189573288 || Validation Accuracy: 0.8157630522088354\n",
      "Epoch: 14\n",
      "Train Loss: 0.49440628569573164 || Train Accuracy: 0.8333333333333334\n",
      "Validation Loss: 0.5995562598109245 || Validation Accuracy: 0.8117469879518072\n",
      "Epoch: 15\n",
      "Train Loss: 0.5846400186419487 || Train Accuracy: 0.7948042168674698\n",
      "Validation Loss: 0.7262802794575691 || Validation Accuracy: 0.7605421686746988\n",
      "Epoch: 16\n",
      "Train Loss: 0.37728456454351544 || Train Accuracy: 0.8659638554216867\n",
      "Validation Loss: 0.5467725768685341 || Validation Accuracy: 0.8157630522088354\n",
      "Epoch: 17\n",
      "Train Loss: 0.30936179123818874 || Train Accuracy: 0.8962098393574297\n",
      "Validation Loss: 0.4511196203529835 || Validation Accuracy: 0.8539156626506024\n",
      "Epoch: 18\n",
      "Train Loss: 0.37702502589672804 || Train Accuracy: 0.8712349397590361\n",
      "Validation Loss: 0.5408584997057915 || Validation Accuracy: 0.8237951807228916\n",
      "Epoch: 19\n",
      "Train Loss: 0.19954340299591422 || Train Accuracy: 0.9347389558232931\n",
      "Validation Loss: 0.3812607526779175 || Validation Accuracy: 0.8810240963855421\n",
      "Epoch: 20\n",
      "Train Loss: 0.23700735438615084 || Train Accuracy: 0.9239457831325302\n",
      "Validation Loss: 0.43038763105869293 || Validation Accuracy: 0.8624497991967871\n"
     ]
    }
   ],
   "source": [
    "nepochs = 20\n",
    "\n",
    "for epoch in range(1, nepochs+1):\n",
    "    \n",
    "    net.train()\n",
    "    train_model(net, train_loader, criterion, optimizer)\n",
    "    \n",
    "    net.eval()\n",
    "    train_loss, train_accuracy = evaluate_model(net, train_loader, criterion)\n",
    "    val_loss, val_accuracy = evaluate_model(net, validation_loader, criterion)\n",
    "    \n",
    "    train_loss_values.append(train_loss)\n",
    "    val_loss_values.append(val_loss)\n",
    "    \n",
    "    train_accuracy_values.append(train_accuracy)\n",
    "    val_accuracy_values.append(val_accuracy)\n",
    "    \n",
    "    print('Epoch:', epoch)\n",
    "    print('Train Loss:', train_loss, '||', 'Train Accuracy:', train_accuracy)\n",
    "    print('Validation Loss:', val_loss, '||', 'Validation Accuracy:', val_accuracy)"
   ]
  },
  {
   "cell_type": "code",
   "execution_count": 14,
   "id": "9c19e43b",
   "metadata": {
    "execution": {
     "iopub.execute_input": "2024-12-15T07:51:26.085284Z",
     "iopub.status.busy": "2024-12-15T07:51:26.085000Z",
     "iopub.status.idle": "2024-12-15T07:51:26.318939Z",
     "shell.execute_reply": "2024-12-15T07:51:26.317871Z"
    },
    "papermill": {
     "duration": 0.241283,
     "end_time": "2024-12-15T07:51:26.321690",
     "exception": false,
     "start_time": "2024-12-15T07:51:26.080407",
     "status": "completed"
    },
    "tags": []
   },
   "outputs": [
    {
     "data": {
      "image/png": "[encoded data removed]",
      "text/plain": [
       "<Figure size 640x480 with 1 Axes>"
      ]
     },
     "metadata": {},
     "output_type": "display_data"
    }
   ],
   "source": [
    "plt.plot(train_loss_values, label = 'Train Loss')\n",
    "plt.plot(val_loss_values, label = 'Validation Loss')\n",
    "plt.legend()\n",
    "plt.show()"
   ]
  },
  {
   "cell_type": "code",
   "execution_count": 15,
   "id": "0f8e9e86",
   "metadata": {
    "execution": {
     "iopub.execute_input": "2024-12-15T07:51:26.332946Z",
     "iopub.status.busy": "2024-12-15T07:51:26.332688Z",
     "iopub.status.idle": "2024-12-15T07:51:26.561897Z",
     "shell.execute_reply": "2024-12-15T07:51:26.561037Z"
    },
    "papermill": {
     "duration": 0.236377,
     "end_time": "2024-12-15T07:51:26.563774",
     "exception": false,
     "start_time": "2024-12-15T07:51:26.327397",
     "status": "completed"
    },
    "tags": []
   },
   "outputs": [
    {
     "data": {
      "image/png": "[encoded data removed]",
      "text/plain": [
       "<Figure size 640x480 with 1 Axes>"
      ]
     },
     "metadata": {},
     "output_type": "display_data"
    }
   ],
   "source": [
    "plt.plot(train_accuracy_values, label = 'Train Accuracy')\n",
    "plt.plot(val_accuracy_values, label = 'Validation Accuracy')\n",
    "plt.legend()\n",
    "plt.show()"
   ]
  },
  {
   "cell_type": "code",
   "execution_count": null,
   "id": "e0093d5c-0853-4086-80d3-59d98ef2ecda",
   "metadata": {},
   "outputs": [],
   "source": [
    "torch.save(net.state_dict(), 'model_weights.pth')"
   ]
  }
 ],
 "metadata": {
  "kaggle": {
   "accelerator": "none",
   "dataSources": [
    {
     "datasetId": 5837237,
     "sourceId": 9575326,
     "sourceType": "datasetVersion"
    },
    {
     "datasetId": 6303350,
     "sourceId": 10200555,
     "sourceType": "datasetVersion"
    }
   ],
   "dockerImageVersionId": 30804,
   "isGpuEnabled": false,
   "isInternetEnabled": true,
   "language": "python",
   "sourceType": "notebook"
  },
  "kernelspec": {
   "display_name": "Python 3 (ipykernel)",
   "language": "python",
   "name": "python3"
  },
  "language_info": {
   "codemirror_mode": {
    "name": "ipython",
    "version": 3
   },
   "file_extension": ".py",
   "mimetype": "text/x-python",
   "name": "python",
   "nbconvert_exporter": "python",
   "pygments_lexer": "ipython3",
   "version": "3.11.9"
  },
  "papermill": {
   "default_parameters": {},
   "duration": 5723.483433,
   "end_time": "2024-12-15T07:51:27.890734",
   "environment_variables": {},
   "exception": null,
   "input_path": "__notebook__.ipynb",
   "output_path": "__notebook__.ipynb",
   "parameters": {},
   "start_time": "2024-12-15T06:16:04.407301",
   "version": "2.6.0"
  }
 },
 "nbformat": 4,
 "nbformat_minor": 5
}
